{
  "nbformat": 4,
  "nbformat_minor": 0,
  "metadata": {
    "kernelspec": {
      "display_name": "Python 3",
      "language": "python",
      "name": "python3"
    },
    "language_info": {
      "codemirror_mode": {
        "name": "ipython",
        "version": 3
      },
      "file_extension": ".py",
      "mimetype": "text/x-python",
      "name": "python",
      "nbconvert_exporter": "python",
      "pygments_lexer": "ipython3",
      "version": "3.6.5"
    },
    "colab": {
      "name": "Bootcamp_Python_Day2.ipynb",
      "provenance": [],
      "include_colab_link": true
    }
  },
  "cells": [
    {
      "cell_type": "markdown",
      "metadata": {
        "id": "view-in-github",
        "colab_type": "text"
      },
      "source": [
        "<a href=\"https://colab.research.google.com/github/RobertArthur/datasciencepython/blob/main/Bootcamp_Python_Day2.ipynb\" target=\"_parent\"><img src=\"https://colab.research.google.com/assets/colab-badge.svg\" alt=\"Open In Colab\"/></a>"
      ]
    },
    {
      "cell_type": "markdown",
      "metadata": {
        "id": "jAwv5ZkvhcYp"
      },
      "source": [
        "# Summer Boot Camp: Day 2, University of Essex\n",
        "### Haider Raza, PhD\n",
        "### Monday, September 21, 2021\n",
        "### Approximate time: 180 minutes\n",
        "\n",
        "***\n",
        "## Learning Outcome Day 2\n",
        "\n",
        "* Python Syntax \n",
        "* Variables and tips on variable names \n",
        "* Data Types \n",
        "* Data Structures\n",
        "* Strings \n",
        "* Logic/Booleans\n",
        "* Operators\n",
        "* If/Else, While, For, Functions \n",
        "* OOP: Classes and inheritance\n",
        "\n",
        "***"
      ]
    },
    {
      "cell_type": "markdown",
      "metadata": {
        "id": "MJyllaKVkZeH"
      },
      "source": [
        "## Python Syntax\n",
        "\n",
        "The Python language has many similarities to `Perl`, `C`, and `Java`. However, there are some definite differences between the languages.\n",
        "\n",
        "Python statement ends with the token NEWLINE character (carriage return). It means each line in a Python script is a statement. The following Python script contains three statements in three separate lines.\n",
        "\n",
        "```python\n",
        "print('id: ', 1)\n",
        "print('First Name: ', 'Steve')\n",
        "print('Last Name: ', 'Jobs')\n",
        "```\n",
        "Use backslash character / to join a statement span over multiple lines, as shown below."
      ]
    },
    {
      "cell_type": "code",
      "metadata": {
        "id": "VUDrSdsPoMMY",
        "colab": {
          "base_uri": "https://localhost:8080/"
        },
        "outputId": "6c29d38b-6510-473b-90bf-df043029d5b5"
      },
      "source": [
        "print('id: ', 1)\n",
        "print('First Name: ', 'Robert')\n",
        "print('Last Name: ', 'Arthur')"
      ],
      "execution_count": 13,
      "outputs": [
        {
          "output_type": "stream",
          "name": "stdout",
          "text": [
            "id:  1\n",
            "First Name:  Robert\n",
            "Last Name:  Arthur\n"
          ]
        }
      ]
    },
    {
      "cell_type": "code",
      "metadata": {
        "id": "5oIpz4zwmM6Z",
        "colab": {
          "base_uri": "https://localhost:8080/"
        },
        "outputId": "d8e9bf27-e795-4391-84c3-274f480200d8"
      },
      "source": [
        "if 100 > 99 and \\\n",
        "    200 <= 300 and \\\n",
        "    True != False:\n",
        "   print('Hello World!')"
      ],
      "execution_count": 14,
      "outputs": [
        {
          "output_type": "stream",
          "name": "stdout",
          "text": [
            "Hello World!\n"
          ]
        }
      ]
    },
    {
      "cell_type": "markdown",
      "metadata": {
        "id": "cWwlaV5cHey3"
      },
      "source": [
        "### Variables\n",
        "A name that is used to denote something or a value is called a variable. In python, variables can be declared and values can be assigned to it as follows,"
      ]
    },
    {
      "cell_type": "code",
      "metadata": {
        "id": "X2tuLpgoHey4"
      },
      "source": [
        "\n",
        "x = 9\n",
        "y = 3\n",
        "xy = 'Hello'"
      ],
      "execution_count": 17,
      "outputs": []
    },
    {
      "cell_type": "code",
      "metadata": {
        "id": "NYILo2YiHey5",
        "colab": {
          "base_uri": "https://localhost:8080/"
        },
        "outputId": "b437471f-2f07-471c-a3e8-16c881bf5896"
      },
      "source": [
        "print(x+y, xy)"
      ],
      "execution_count": 18,
      "outputs": [
        {
          "output_type": "stream",
          "name": "stdout",
          "text": [
            "12 Hello\n"
          ]
        }
      ]
    },
    {
      "cell_type": "code",
      "metadata": {
        "id": "BI4anghWHey6",
        "colab": {
          "base_uri": "https://localhost:8080/"
        },
        "outputId": "16d7c747-052e-4542-dddb-832b40ee58fd"
      },
      "source": [
        "# Multiple variables can be assigned with the same value\n",
        "\n",
        "x = y = 14\n",
        "\n",
        "print(x,y)"
      ],
      "execution_count": 21,
      "outputs": [
        {
          "output_type": "stream",
          "name": "stdout",
          "text": [
            "14 14\n"
          ]
        }
      ]
    },
    {
      "cell_type": "markdown",
      "metadata": {
        "id": "sGG8ArhZHey6"
      },
      "source": [
        "### Operators\n",
        "\n",
        "#### Arithmetic Operators\n",
        "\n",
        "| Symbol | Task Performed |\n",
        "|----|---|\n",
        "| +  | Addition |\n",
        "| -  | Subtraction |\n",
        "| /  | division |\n",
        "| %  | mod |\n",
        "| *  | multiplication |\n",
        "| //  | floor division |\n",
        "| **  | to the power of |"
      ]
    },
    {
      "cell_type": "code",
      "metadata": {
        "id": "6-wbCWEJHey7",
        "colab": {
          "base_uri": "https://localhost:8080/"
        },
        "outputId": "040c7212-0430-4d18-d8e5-ce79af7001f3"
      },
      "source": [
        "1+2"
      ],
      "execution_count": 23,
      "outputs": [
        {
          "output_type": "execute_result",
          "data": {
            "text/plain": [
              "3"
            ]
          },
          "metadata": {},
          "execution_count": 23
        }
      ]
    },
    {
      "cell_type": "code",
      "metadata": {
        "id": "ThLzLxExHey7",
        "colab": {
          "base_uri": "https://localhost:8080/"
        },
        "outputId": "5fd1f389-5575-443f-af7d-405af3195dab"
      },
      "source": [
        "2-1"
      ],
      "execution_count": 25,
      "outputs": [
        {
          "output_type": "execute_result",
          "data": {
            "text/plain": [
              "1"
            ]
          },
          "metadata": {},
          "execution_count": 25
        }
      ]
    },
    {
      "cell_type": "code",
      "metadata": {
        "id": "IkhCStFYHey7",
        "colab": {
          "base_uri": "https://localhost:8080/"
        },
        "outputId": "f728b01d-f12e-46be-cd04-d126cdd0e570"
      },
      "source": [
        "1*2"
      ],
      "execution_count": 28,
      "outputs": [
        {
          "output_type": "execute_result",
          "data": {
            "text/plain": [
              "2"
            ]
          },
          "metadata": {},
          "execution_count": 28
        }
      ]
    },
    {
      "cell_type": "code",
      "metadata": {
        "id": "FILL-bHDHey8",
        "colab": {
          "base_uri": "https://localhost:8080/"
        },
        "outputId": "b1bc40e6-df35-4b25-b8af-b9eeeec4f027"
      },
      "source": [
        "1/2"
      ],
      "execution_count": 32,
      "outputs": [
        {
          "output_type": "execute_result",
          "data": {
            "text/plain": [
              "0.5"
            ]
          },
          "metadata": {},
          "execution_count": 32
        }
      ]
    },
    {
      "cell_type": "code",
      "metadata": {
        "id": "EGAkuQ58Hey8",
        "colab": {
          "base_uri": "https://localhost:8080/"
        },
        "outputId": "864f80bf-6ca6-4dbd-cac6-7730156d6399"
      },
      "source": [
        "15%10"
      ],
      "execution_count": 36,
      "outputs": [
        {
          "output_type": "execute_result",
          "data": {
            "text/plain": [
              "5"
            ]
          },
          "metadata": {},
          "execution_count": 36
        }
      ]
    },
    {
      "cell_type": "code",
      "metadata": {
        "id": "xpO9xdgyHey8",
        "colab": {
          "base_uri": "https://localhost:8080/"
        },
        "outputId": "7265f40d-d1f0-4b6f-d111-07be82f872ce"
      },
      "source": [
        "#Floor division is nothing but converting the result so obtained to the nearest integer.\n",
        "2.8//2.0"
      ],
      "execution_count": 42,
      "outputs": [
        {
          "output_type": "execute_result",
          "data": {
            "text/plain": [
              "1.0"
            ]
          },
          "metadata": {},
          "execution_count": 42
        }
      ]
    },
    {
      "cell_type": "markdown",
      "metadata": {
        "id": "N4mnMEp0Hey8"
      },
      "source": [
        "## Relational Operators\n",
        "| Symbol | Task Performed |\n",
        "|----|---|\n",
        "| == | True, if it is equal |\n",
        "| !=  | True, if not equal to |\n",
        "| < | less than |\n",
        "| > | greater than |\n",
        "| <=  | less than or equal to |\n",
        "| >=  | greater than or equal to |"
      ]
    },
    {
      "cell_type": "code",
      "metadata": {
        "id": "JExkowyRHey9"
      },
      "source": [
        "z = 1"
      ],
      "execution_count": 52,
      "outputs": []
    },
    {
      "cell_type": "code",
      "metadata": {
        "id": "2Kzl2rv4Hey9",
        "colab": {
          "base_uri": "https://localhost:8080/"
        },
        "outputId": "cf8a8b75-2c1e-45ca-8b71-3ffb2fe49f2f"
      },
      "source": [
        "z == 1"
      ],
      "execution_count": 53,
      "outputs": [
        {
          "output_type": "execute_result",
          "data": {
            "text/plain": [
              "True"
            ]
          },
          "metadata": {},
          "execution_count": 53
        }
      ]
    },
    {
      "cell_type": "code",
      "metadata": {
        "id": "7gi06LjlHey9",
        "colab": {
          "base_uri": "https://localhost:8080/"
        },
        "outputId": "f47527c2-a114-470f-9d55-3782286a1ccf"
      },
      "source": [
        "z > 1"
      ],
      "execution_count": 54,
      "outputs": [
        {
          "output_type": "execute_result",
          "data": {
            "text/plain": [
              "False"
            ]
          },
          "metadata": {},
          "execution_count": 54
        }
      ]
    },
    {
      "cell_type": "code",
      "metadata": {
        "id": "qTOszABhHey-",
        "colab": {
          "base_uri": "https://localhost:8080/"
        },
        "outputId": "7368720a-52a9-48e8-e75a-48f53b0337e5"
      },
      "source": [
        "print(round(5.6231))\n",
        "print(round(4.55892, 2))"
      ],
      "execution_count": 57,
      "outputs": [
        {
          "output_type": "stream",
          "name": "stdout",
          "text": [
            "6\n",
            "4.56\n"
          ]
        }
      ]
    },
    {
      "cell_type": "code",
      "metadata": {
        "id": "egj5qSNfHey-",
        "colab": {
          "base_uri": "https://localhost:8080/"
        },
        "outputId": "776f94e7-1f7d-4d5b-e9b1-bf749be1aa54"
      },
      "source": [
        "divmod(9,4)"
      ],
      "execution_count": 61,
      "outputs": [
        {
          "output_type": "execute_result",
          "data": {
            "text/plain": [
              "(2, 1)"
            ]
          },
          "metadata": {},
          "execution_count": 61
        }
      ]
    },
    {
      "cell_type": "code",
      "metadata": {
        "id": "S3uYKp0gHey-",
        "colab": {
          "base_uri": "https://localhost:8080/"
        },
        "outputId": "70c97462-8aa2-4bee-b9eb-21cb1cd790dd"
      },
      "source": [
        "pow(2,3)"
      ],
      "execution_count": 69,
      "outputs": [
        {
          "output_type": "execute_result",
          "data": {
            "text/plain": [
              "8"
            ]
          },
          "metadata": {},
          "execution_count": 69
        }
      ]
    },
    {
      "cell_type": "markdown",
      "metadata": {
        "id": "e0lPv506Hey-"
      },
      "source": [
        "## Print\n",
        "\n",
        "\n",
        "In Python, single, double and triple quotes are used to denote a string. Most use single quotes when declaring a single character. Double quotes when declaring a line and triple quotes when declaring a paragraph/multiple lines."
      ]
    },
    {
      "cell_type": "code",
      "metadata": {
        "id": "awSQ04seHey-",
        "colab": {
          "base_uri": "https://localhost:8080/"
        },
        "outputId": "af9e7cc5-8e04-4e3f-a4a8-bb1f2869c947"
      },
      "source": [
        "print('H')"
      ],
      "execution_count": 71,
      "outputs": [
        {
          "output_type": "stream",
          "name": "stdout",
          "text": [
            "H\n"
          ]
        }
      ]
    },
    {
      "cell_type": "code",
      "metadata": {
        "id": "Tpui8PXzHey_",
        "outputId": "3c92e838-48b9-4a15-864c-e7ceddcd28dd"
      },
      "source": [
        "print(\"Hello World\")"
      ],
      "execution_count": null,
      "outputs": [
        {
          "output_type": "stream",
          "text": [
            "Hello World\n"
          ],
          "name": "stdout"
        }
      ]
    },
    {
      "cell_type": "code",
      "metadata": {
        "id": "NvTicvWOHey_",
        "outputId": "6ce3a1b6-dce1-47c7-81b2-99573ce0c411"
      },
      "source": [
        "print(\"\"\"I am from Essex.\n",
        "I love Python.\"\"\")"
      ],
      "execution_count": null,
      "outputs": [
        {
          "output_type": "stream",
          "text": [
            "I am from Essex.\n",
            "I love Python.\n"
          ],
          "name": "stdout"
        }
      ]
    },
    {
      "cell_type": "code",
      "metadata": {
        "id": "cG6FKwn0Hey_",
        "colab": {
          "base_uri": "https://localhost:8080/"
        },
        "outputId": "f6f115e5-c962-4cc8-f333-748100aac064"
      },
      "source": [
        "string1 = \"World\"\n",
        "print(\"Hello\", string1)"
      ],
      "execution_count": 74,
      "outputs": [
        {
          "output_type": "stream",
          "name": "stdout",
          "text": [
            "Hello World\n"
          ]
        }
      ]
    },
    {
      "cell_type": "code",
      "metadata": {
        "id": "AEJwrsrLHezA",
        "colab": {
          "base_uri": "https://localhost:8080/"
        },
        "outputId": "26be02fa-5a72-419a-f5c3-a16016d44f5c"
      },
      "source": [
        "string2 = '!'\n",
        "print(\"Hello\", string1, string2)"
      ],
      "execution_count": 77,
      "outputs": [
        {
          "output_type": "stream",
          "name": "stdout",
          "text": [
            "Hello World !\n"
          ]
        }
      ]
    },
    {
      "cell_type": "code",
      "metadata": {
        "id": "NtLNDD0EHezA",
        "outputId": "e0213f2d-cb95-4fd3-8276-f3c0cd7ef1d6"
      },
      "source": [
        "print(\"Hello\" + string1 + string2)"
      ],
      "execution_count": null,
      "outputs": [
        {
          "output_type": "stream",
          "text": [
            "HelloWorld!\n"
          ],
          "name": "stdout"
        }
      ]
    },
    {
      "cell_type": "code",
      "metadata": {
        "id": "xL047F7qHezA",
        "outputId": "a76f59b0-9f1c-4403-9240-927616d8ab10"
      },
      "source": [
        "print(\"Hello %s\" % string1)"
      ],
      "execution_count": null,
      "outputs": [
        {
          "output_type": "stream",
          "text": [
            "Hello World\n"
          ],
          "name": "stdout"
        }
      ]
    },
    {
      "cell_type": "code",
      "metadata": {
        "id": "jpz-UfI7HezA",
        "outputId": "5f85da2c-4344-483d-f485-ca65b22a974b"
      },
      "source": [
        "print(\"Actual Number = %d\" %18)\n",
        "print(\"Float of the number = %f\" %18)"
      ],
      "execution_count": null,
      "outputs": [
        {
          "output_type": "stream",
          "text": [
            "Actual Number = 18\n",
            "Float of the number = 18.000000\n"
          ],
          "name": "stdout"
        }
      ]
    },
    {
      "cell_type": "code",
      "metadata": {
        "id": "1lU4rsAuHezA",
        "outputId": "02fa915c-b9db-49ee-cd12-39631f874105"
      },
      "source": [
        "print(\"Hello %s %s\" %(string1,string2))"
      ],
      "execution_count": null,
      "outputs": [
        {
          "output_type": "stream",
          "text": [
            "Hello World !\n"
          ],
          "name": "stdout"
        }
      ]
    },
    {
      "cell_type": "markdown",
      "metadata": {
        "id": "KkRFgAyjto1v"
      },
      "source": [
        "## Python: Data Types\n",
        "\n",
        "In programming, data type is an important concept. `Variables` can store data of different types, and different types can do different things. Python has the following data types built-in by default, in these categories:\n",
        "\n",
        "\n",
        "|   Type          |  Syntax   | \n",
        "|-----------------|---------- |\n",
        "| Text Type:      | \t`str`     | \n",
        "| Numeric Types:  |  `int`, `float`, `complex`         |\n",
        "| Sequence Types: |  `list`, `tuple`, `range`         |\n",
        "| Mapping Type:   |  `dict`         |\n",
        "| Set Types:      |  `set`, `frozenset`         |\n",
        "| Boolean Type:   |  `bool`         |\n",
        "|  Binary Types:  |  `bytes`, `bytearray`, `memoryview`      |\n",
        "\n",
        "\n",
        "\n",
        "You can get the data type of any object by using the type() function:\n"
      ]
    },
    {
      "cell_type": "code",
      "metadata": {
        "id": "juF9t2m7vGou",
        "colab": {
          "base_uri": "https://localhost:8080/"
        },
        "outputId": "071888cf-98f7-486a-d9b4-bfb753de3cf6"
      },
      "source": [
        "x = 20\n",
        "type(x)"
      ],
      "execution_count": null,
      "outputs": [
        {
          "output_type": "execute_result",
          "data": {
            "text/plain": [
              "int"
            ]
          },
          "metadata": {},
          "execution_count": 1
        }
      ]
    },
    {
      "cell_type": "code",
      "metadata": {
        "id": "SCtC--bevTXq",
        "colab": {
          "base_uri": "https://localhost:8080/"
        },
        "outputId": "d4b9bad8-7394-4565-b69a-a54ba97213c9"
      },
      "source": [
        "# str type\n",
        "x = \"good morning\" \n",
        "print(x)\n",
        "print(type(x))\n",
        "\n",
        "# int type\n",
        "x = 93\t\n",
        "print(x)\n",
        "print(type(x))\n",
        "\n",
        "# float type\n",
        "x = 35.78\t\n",
        "print(x)\n",
        "print(type(x))\n",
        "\n",
        "# complex type\n",
        "x = 1j\n",
        "print(x)\n",
        "print(type(x))\n",
        "\n",
        "# list type\n",
        "x = [\"how\", \"are\", \"you?\"]\t\n",
        "print(x)\n",
        "print(type(x))\n",
        "\n",
        "# tuple \n",
        "x = (\"I\", \"Love\", \"Essex\")\t\n",
        "print(x)\n",
        "print(type(x))\n",
        "\n",
        "# range type\n",
        "x = range(13)\t\n",
        "print(x)\n",
        "print(type(x))\n",
        "\n",
        "# dictonary type\n",
        "x = {\"name\" : \"Robert\", \"age\" : 21}\t\t\n",
        "print(x)\n",
        "print(type(x))\n",
        "\n",
        "# set type\n",
        "x = {\"AstonMartin\", \"Mercedes\", \"Ferrari\"}\t\n",
        "print(x)\n",
        "print(type(x))\n",
        "\n",
        "# frozen set type\n",
        "x = frozenset({\"London\", \"Manchester\", \"Birmingham\", \"Leeds\"})\n",
        "print(x)\n",
        "print(type(x))\n",
        "\n",
        "# bool type\n",
        "x = False\n",
        "print(x)\n",
        "print(type(x))\n",
        "\n",
        "# bytes type\n",
        "x = b\"morning\"\n",
        "print(x)\n",
        "print(type(x))\n",
        "\n",
        "# bytearray\n",
        "x = bytearray(3)\n",
        "print(x)\n",
        "print(type(x))\n",
        "\n",
        "# memoryview \n",
        "x = memoryview(bytes(5))\n",
        "print(x)\n",
        "print(type(x))\n"
      ],
      "execution_count": 87,
      "outputs": [
        {
          "output_type": "stream",
          "name": "stdout",
          "text": [
            "good morning\n",
            "<class 'str'>\n",
            "93\n",
            "<class 'int'>\n",
            "35.78\n",
            "<class 'float'>\n",
            "16j\n",
            "<class 'complex'>\n",
            "['how', 'are', 'you?']\n",
            "<class 'list'>\n",
            "('I', 'Love', 'Essex')\n",
            "<class 'tuple'>\n",
            "range(0, 13)\n",
            "<class 'range'>\n",
            "{'name': 'Robert', 'age': 21}\n",
            "<class 'dict'>\n",
            "{'AstonMartin', 'Ferrari', 'Mercedes'}\n",
            "<class 'set'>\n",
            "frozenset({'Leeds', 'London', 'Manchester', 'Birmingham'})\n",
            "<class 'frozenset'>\n",
            "False\n",
            "<class 'bool'>\n",
            "b'morning'\n",
            "<class 'bytes'>\n",
            "bytearray(b'\\x00\\x00\\x00')\n",
            "<class 'bytearray'>\n",
            "<memory at 0x7f25e62082c0>\n",
            "<class 'memoryview'>\n"
          ]
        }
      ]
    },
    {
      "cell_type": "markdown",
      "metadata": {
        "id": "6MpNKUUIw_FN"
      },
      "source": [
        "### Do you know, we can convert or set data types:\n",
        "\n",
        "If you want to specify the data type, you can use the following constructor functions:"
      ]
    },
    {
      "cell_type": "code",
      "metadata": {
        "id": "WH9gbUZ8xKfh"
      },
      "source": [
        "# Setting x to string\n",
        "x = str(\"Hello Essex\")\n",
        "\n",
        "# setting x to integer\n",
        "x = int(20)\n",
        "\n",
        "# setting x to float\n",
        "x = float(20.5)\t\t\n",
        "\n",
        "# setting x to list\n",
        "x = list((\"apple\", \"banana\", \"cherry\"))"
      ],
      "execution_count": 84,
      "outputs": []
    },
    {
      "cell_type": "markdown",
      "metadata": {
        "id": "JQRXnRjeq0km"
      },
      "source": [
        "## Python Conditions\n",
        "\n",
        "Python supports the usual logical conditions from mathematics:\n",
        "\n",
        "|   Type          |  Syntax   | \n",
        "|-----------------|---------- |\n",
        "| Equals :        | `a == b`  | \n",
        "| Not Equals :    | `a != b`  | \n",
        "| Less than :     | \t`a < b` | \n",
        "| Less than or equal to:| \t`a <= b`| \n",
        "| Greater than :  | \t`a > b` | \n",
        "|Greater than or equal to:|  `a >= b`|\n",
        "\n",
        "\n",
        "These conditions can be used in several ways, most commonly in `if` statements and loops. An `if` statement is written by using the `if` keyword.\n",
        "\n",
        "```python\n",
        "x = 5\n",
        "y = 10\n",
        "if y > x:\n",
        "  print(\"b is greater than a\")\n",
        "```\n",
        "\n",
        "## Important point to note: `Indentation`\n",
        "Python relies on indentation (whitespace at the beginning of a line) to define scope in the code. Other programming languages often use curly-brackets for this purpose.\n",
        "\n",
        "```python\n",
        "a = 33\n",
        "b = 200\n",
        "if b > a:\n",
        "print(\"b is greater than a\") # you will get an error\n",
        "```\n",
        "Above code will give an error.\n",
        "\n",
        "### Elif\n",
        "\n",
        "The `elif` keyword is pythons way of saying \"**if the previous conditions were not true, then try this condition**\".\n",
        "\n"
      ]
    },
    {
      "cell_type": "code",
      "metadata": {
        "id": "FTkmPN1QuP9M",
        "colab": {
          "base_uri": "https://localhost:8080/"
        },
        "outputId": "100f790f-f80c-4a8d-827e-547a24e02a4c"
      },
      "source": [
        "a = 10\n",
        "b = 10\n",
        "if b > a:\n",
        "  print(\"b is greater than a\")\n",
        "elif a == b:\n",
        "  print(\"a and b are equal\")"
      ],
      "execution_count": 90,
      "outputs": [
        {
          "output_type": "stream",
          "name": "stdout",
          "text": [
            "a and b are equal\n"
          ]
        }
      ]
    },
    {
      "cell_type": "markdown",
      "metadata": {
        "id": "Z3ckiu0CvJ5b"
      },
      "source": [
        "### Else\n",
        "The `else` keyword catches anything which isn't caught by the preceding conditions."
      ]
    },
    {
      "cell_type": "code",
      "metadata": {
        "id": "vlWGozwGvO6b",
        "colab": {
          "base_uri": "https://localhost:8080/"
        },
        "outputId": "d814b350-3c7e-4e20-ea41-c607ddb3e709"
      },
      "source": [
        "a = 30\n",
        "b = 10\n",
        "if b > a:\n",
        "  print(\"b is greater than a\")\n",
        "elif a == b:\n",
        "  print(\"a and b are equal\")\n",
        "else:\n",
        "  print(\"a is greater than b\")"
      ],
      "execution_count": null,
      "outputs": [
        {
          "output_type": "stream",
          "name": "stdout",
          "text": [
            "a is greater than b\n"
          ]
        }
      ]
    },
    {
      "cell_type": "markdown",
      "metadata": {
        "id": "l78mtI7RwD0m"
      },
      "source": [
        "### Using And in IF\n",
        "\n",
        "The `and` keyword is a logical operator, and is used to combine conditional statements:"
      ]
    },
    {
      "cell_type": "code",
      "metadata": {
        "id": "7PISZ6RrwLIE",
        "colab": {
          "base_uri": "https://localhost:8080/"
        },
        "outputId": "d2df661e-48ee-4cff-9996-d625c90994e7"
      },
      "source": [
        "a = 30\n",
        "b = 10\n",
        "c = 70\n",
        "if a > b and c > a:\n",
        "  print(\"Both conditions are True\")"
      ],
      "execution_count": null,
      "outputs": [
        {
          "output_type": "stream",
          "name": "stdout",
          "text": [
            "Both conditions are True\n"
          ]
        }
      ]
    },
    {
      "cell_type": "markdown",
      "metadata": {
        "id": "O8iNs1UsxK3z"
      },
      "source": [
        "### Nested If\n",
        "\n",
        "You can have `if` statements inside `if` statements, this is called \"nested if\" statements."
      ]
    },
    {
      "cell_type": "code",
      "metadata": {
        "id": "dltROXxTxabT",
        "colab": {
          "base_uri": "https://localhost:8080/"
        },
        "outputId": "d03330be-8d17-429a-995d-a28e1d72de61"
      },
      "source": [
        "x = 55\n",
        "\n",
        "if x > 10:\n",
        "  print(\"Above ten,\")\n",
        "  if x > 20:\n",
        "    print(\"and also above 20!\")\n",
        "  else:\n",
        "    print(\"but not above 20.\")"
      ],
      "execution_count": null,
      "outputs": [
        {
          "output_type": "stream",
          "name": "stdout",
          "text": [
            "Above ten,\n",
            "and also above 20!\n"
          ]
        }
      ]
    },
    {
      "cell_type": "markdown",
      "metadata": {
        "id": "RChczfQNyr_8"
      },
      "source": [
        "## Python Loops\n",
        "\n",
        "Python has two primitive loop commands:\n",
        "\n",
        "* `while` loops\n",
        "* `for` \n",
        "\n",
        "\n",
        "### While Loop\n",
        "With the `while` loop we can execute a set of statements as long as a condition is true."
      ]
    },
    {
      "cell_type": "code",
      "metadata": {
        "id": "Qt6Rt1Xzzk5T",
        "colab": {
          "base_uri": "https://localhost:8080/"
        },
        "outputId": "9549dc13-c9f7-4f19-d94a-f4f8feae827f"
      },
      "source": [
        "i = 1\n",
        "while i < 6:\n",
        "  print(i)\n",
        "  i += 1"
      ],
      "execution_count": 93,
      "outputs": [
        {
          "output_type": "stream",
          "name": "stdout",
          "text": [
            "1\n",
            "2\n",
            "3\n",
            "4\n",
            "5\n"
          ]
        }
      ]
    },
    {
      "cell_type": "markdown",
      "metadata": {
        "id": "cGd2_Bz_0HO8"
      },
      "source": [
        "### Break Statement\n",
        "With the break statement we can stop the loop even if the `while` condition is true:"
      ]
    },
    {
      "cell_type": "code",
      "metadata": {
        "id": "LLF0mILS0UEd",
        "colab": {
          "base_uri": "https://localhost:8080/"
        },
        "outputId": "881e7037-c058-4d02-bc20-6a8b43cf21aa"
      },
      "source": [
        "i = 1\n",
        "while i < 6:\n",
        "  print(i)\n",
        "  if i == 3:\n",
        "    break\n",
        "  i += 1"
      ],
      "execution_count": 114,
      "outputs": [
        {
          "output_type": "stream",
          "name": "stdout",
          "text": [
            "1\n",
            "2\n",
            "3\n"
          ]
        }
      ]
    },
    {
      "cell_type": "markdown",
      "metadata": {
        "id": "n_lL1nUD19Uj"
      },
      "source": [
        "### For Loop\n",
        "\n",
        "A `for` loop is used for iterating over a sequence (that is either a list, a tuple, a dictionary, a set, or a string).\n",
        "\n",
        "This is less like the for keyword in other programming languages, and works more like an iterator method as found in other object-orientated programming languages.\n",
        "\n",
        "With the `for` loop we can execute a set of statements, once for each item in a list, tuple, set etc."
      ]
    },
    {
      "cell_type": "code",
      "metadata": {
        "id": "ko2Omx9n2iys",
        "colab": {
          "base_uri": "https://localhost:8080/"
        },
        "outputId": "0cbcdc3a-fcba-467a-de19-e66eaa26f617"
      },
      "source": [
        "cars = [\"bmw\", \"audi\", \"ford\", \"honda\", \"Mercedes\", \"Tesla\"]\n",
        "for x in cars:\n",
        "  print(x)"
      ],
      "execution_count": 116,
      "outputs": [
        {
          "output_type": "stream",
          "name": "stdout",
          "text": [
            "bmw\n",
            "audi\n",
            "ford\n",
            "honda\n",
            "Mercedes\n",
            "Tesla\n"
          ]
        }
      ]
    },
    {
      "cell_type": "markdown",
      "metadata": {
        "id": "XpFFLsLh2qWJ"
      },
      "source": [
        "### Looping Through a String\n",
        "\n",
        "Even strings are iterable objects, they contain a sequence of characters:"
      ]
    },
    {
      "cell_type": "code",
      "metadata": {
        "id": "D3hxOvbI2vCv",
        "colab": {
          "base_uri": "https://localhost:8080/"
        },
        "outputId": "48a4845b-3b7a-400e-daa9-e766983f3437"
      },
      "source": [
        "for x in \"Audi\":\n",
        "  print(x)"
      ],
      "execution_count": 118,
      "outputs": [
        {
          "output_type": "stream",
          "name": "stdout",
          "text": [
            "A\n",
            "u\n",
            "d\n",
            "i\n"
          ]
        }
      ]
    },
    {
      "cell_type": "markdown",
      "metadata": {
        "id": "GVxTwYNz48t0"
      },
      "source": [
        "### Using break in for loop\n",
        "\n",
        "With the `break` statement we can stop the loop before it has looped through all the items:\n",
        "\n"
      ]
    },
    {
      "cell_type": "code",
      "metadata": {
        "id": "Rn2Xab855Gnv",
        "colab": {
          "base_uri": "https://localhost:8080/"
        },
        "outputId": "c39cf845-f035-4af4-fa0c-969a744a92b6"
      },
      "source": [
        "cars = [\"bmw\", \"audi\", \"honda\", \"Mercedes\", \"Tesla\", \"Ford\", \"Renault\"]\n",
        "for x in cars:\n",
        "  print(x)\n",
        "  if x == \"Ford\":\n",
        "    break"
      ],
      "execution_count": 130,
      "outputs": [
        {
          "output_type": "stream",
          "name": "stdout",
          "text": [
            "bmw\n",
            "audi\n",
            "honda\n",
            "Mercedes\n",
            "Tesla\n",
            "Ford\n"
          ]
        }
      ]
    },
    {
      "cell_type": "markdown",
      "metadata": {
        "id": "P-fpMiOE8G4Z"
      },
      "source": [
        "### The range() Function\n",
        "\n",
        "To loop through a set of code a specified number of times, we can use the `range()` function,\n",
        "The `range()` function returns a sequence of numbers, starting from 0 by default, and increments by 1 (by default), and ends at a specified number."
      ]
    },
    {
      "cell_type": "code",
      "metadata": {
        "id": "lMoud22H8GLP",
        "colab": {
          "base_uri": "https://localhost:8080/"
        },
        "outputId": "2c2a885c-0eb3-4a3c-d4a0-47a20aaefa84"
      },
      "source": [
        "for x in range(10):\n",
        "  print(x)"
      ],
      "execution_count": 132,
      "outputs": [
        {
          "output_type": "stream",
          "name": "stdout",
          "text": [
            "0\n",
            "1\n",
            "2\n",
            "3\n",
            "4\n",
            "5\n",
            "6\n",
            "7\n",
            "8\n",
            "9\n"
          ]
        }
      ]
    },
    {
      "cell_type": "code",
      "metadata": {
        "id": "tew1_uZy8Ssx",
        "colab": {
          "base_uri": "https://localhost:8080/"
        },
        "outputId": "05fd826c-0692-45d3-c63c-da1c6647505f"
      },
      "source": [
        "for x in range(5, 10):\n",
        "  print(x)"
      ],
      "execution_count": 129,
      "outputs": [
        {
          "output_type": "stream",
          "name": "stdout",
          "text": [
            "5\n",
            "6\n",
            "7\n",
            "8\n",
            "9\n"
          ]
        }
      ]
    },
    {
      "cell_type": "markdown",
      "metadata": {
        "id": "jxAS65rjC6L4"
      },
      "source": [
        "## Functions in Python\n",
        "\n",
        "A function is a block of code which only runs when it is called. You can pass data, known as parameters, into a function. A function can return data as a result.\n",
        "\n",
        "### Creating a Function\n",
        "\n",
        "In Python a function is defined using the `def` keyword:"
      ]
    },
    {
      "cell_type": "code",
      "metadata": {
        "id": "3yrYKGTjD3VH"
      },
      "source": [
        "def my_function():\n",
        "  print(\"Hello, this is my first function\")"
      ],
      "execution_count": 133,
      "outputs": []
    },
    {
      "cell_type": "markdown",
      "metadata": {
        "id": "yhDPh113D-zE"
      },
      "source": [
        "Calling a function, we have just created:\n"
      ]
    },
    {
      "cell_type": "code",
      "metadata": {
        "id": "ltTuQ4k0ECO6",
        "colab": {
          "base_uri": "https://localhost:8080/"
        },
        "outputId": "1dbdce50-396e-4fd2-8be0-ea980cd32d0a"
      },
      "source": [
        "my_function()"
      ],
      "execution_count": 134,
      "outputs": [
        {
          "output_type": "stream",
          "name": "stdout",
          "text": [
            "Hello, this is my first function\n"
          ]
        }
      ]
    },
    {
      "cell_type": "markdown",
      "metadata": {
        "id": "uVoDWh_ZEFpj"
      },
      "source": [
        "### Arguments\n",
        "Information can be passed into functions as arguments. Arguments are specified after the function name, inside the parentheses. You can add as many arguments as you want, just separate them with a comma.\n",
        "\n",
        "The following example has a function with one argument (fname). When the function is called, we pass along a first name, which is used inside the function to print the full name:"
      ]
    },
    {
      "cell_type": "code",
      "metadata": {
        "id": "r0BUYY4zEu_2",
        "colab": {
          "base_uri": "https://localhost:8080/"
        },
        "outputId": "06d8018c-6321-4b73-ceac-b8e8e53eaf9a"
      },
      "source": [
        "def my_function(car_model):\n",
        "  print(\"BMW \" + car_model)\n",
        "\n",
        "my_function(\"520d\")\n",
        "my_function(\"320i\")\n",
        "my_function(\"320d\")\n",
        "my_function(\"5200e\")\n"
      ],
      "execution_count": 157,
      "outputs": [
        {
          "output_type": "stream",
          "name": "stdout",
          "text": [
            "BMW 520d\n",
            "BMW 320i\n",
            "BMW 320d\n",
            "BMW 5200e\n"
          ]
        }
      ]
    },
    {
      "cell_type": "markdown",
      "metadata": {
        "id": "W1YsDAnZFhJR"
      },
      "source": [
        "### Parameters or Arguments?\n",
        "\n",
        "The terms \"parameter\" and \"argument\" can be used for the same thing: information that are passed into a function. But, there is a difference and important to note that:\n",
        "\n",
        "* A \"**parameter**\" is the variable listed inside the parentheses in the function definition.\n",
        "\n",
        "* An \"**argument**\" is the value that is sent to the function when it is called."
      ]
    },
    {
      "cell_type": "markdown",
      "metadata": {
        "id": "OcIaqIeYGAtR"
      },
      "source": [
        "### Number of Arguments\n",
        "By default, a function must be called with the correct number of arguments. Meaning that if your function expects 2 arguments, you have to call the function with 2 arguments, not more, and not less."
      ]
    },
    {
      "cell_type": "code",
      "metadata": {
        "id": "9SXiJcFoGFlI",
        "colab": {
          "base_uri": "https://localhost:8080/"
        },
        "outputId": "44f93a2f-b20d-47fb-87ec-0f142f221f22"
      },
      "source": [
        "def my_function(car_name, car_model):\n",
        "  print(car_name + \" \" + car_model)\n",
        "\n",
        "my_function(\"Tesla\", \"Model X\")"
      ],
      "execution_count": 141,
      "outputs": [
        {
          "output_type": "stream",
          "name": "stdout",
          "text": [
            "Tesla Model X\n"
          ]
        }
      ]
    },
    {
      "cell_type": "markdown",
      "metadata": {
        "id": "pz3HwxDMGQRO"
      },
      "source": [
        "If you try to call the function with 1 or 3 arguments, you will get an error:"
      ]
    },
    {
      "cell_type": "code",
      "metadata": {
        "id": "PZFfRiNzGQ53",
        "colab": {
          "base_uri": "https://localhost:8080/",
          "height": 163
        },
        "outputId": "bfef47b2-8fcc-49e6-919d-c78d3833e50b"
      },
      "source": [
        "my_function(\"Tesla\")"
      ],
      "execution_count": 139,
      "outputs": [
        {
          "output_type": "error",
          "ename": "TypeError",
          "evalue": "ignored",
          "traceback": [
            "\u001b[0;31m---------------------------------------------------------------------------\u001b[0m",
            "\u001b[0;31mTypeError\u001b[0m                                 Traceback (most recent call last)",
            "\u001b[0;32m<ipython-input-139-e3ec403fefe3>\u001b[0m in \u001b[0;36m<module>\u001b[0;34m()\u001b[0m\n\u001b[0;32m----> 1\u001b[0;31m \u001b[0mmy_function\u001b[0m\u001b[0;34m(\u001b[0m\u001b[0;34m\"Tesla\"\u001b[0m\u001b[0;34m)\u001b[0m\u001b[0;34m\u001b[0m\u001b[0;34m\u001b[0m\u001b[0m\n\u001b[0m",
            "\u001b[0;31mTypeError\u001b[0m: my_function() missing 1 required positional argument: 'car_model'"
          ]
        }
      ]
    },
    {
      "cell_type": "markdown",
      "metadata": {
        "id": "vk864_pyGWoE"
      },
      "source": [
        "### Arbitrary Arguments, *args\n",
        "If you do not know how many arguments that will be passed into your function, add a * before the parameter name in the function definition.\n",
        "\n",
        "This way the function will receive a tuple of arguments, and can access the items accordingly:"
      ]
    },
    {
      "cell_type": "code",
      "metadata": {
        "id": "tSIx-T6VGcpu",
        "colab": {
          "base_uri": "https://localhost:8080/"
        },
        "outputId": "cba136c5-64fe-4a73-a487-cc1f3907097a"
      },
      "source": [
        "def my_function(*cars):\n",
        "  print(\"In BMW, I like \" + cars[2])\n",
        "\n",
        "my_function(\"X7\", \"X3\", \"X1\")"
      ],
      "execution_count": 137,
      "outputs": [
        {
          "output_type": "stream",
          "name": "stdout",
          "text": [
            "In BMW, I like X1\n"
          ]
        }
      ]
    },
    {
      "cell_type": "markdown",
      "metadata": {
        "id": "kIvRpVkBG5S-"
      },
      "source": [
        "### Default Parameter Value\n",
        "The following example shows how to use a default parameter value. If we call the function without argument, it uses the default value:"
      ]
    },
    {
      "cell_type": "code",
      "metadata": {
        "id": "npfCqIBgHAh0",
        "colab": {
          "base_uri": "https://localhost:8080/"
        },
        "outputId": "b67de9c1-d8ae-4aec-bfae-abe2ad75d1c3"
      },
      "source": [
        "def my_function(car = \"Tesla\"):\n",
        "  print(\"My favroite car is \" + car)\n",
        "\n",
        "my_function(\"BMW\")\n",
        "my_function(\"Audi\")\n",
        "my_function(\"ford\")\n",
        "my_function()\n",
        "my_function(\"Honda\")\n",
        "my_function(\"Mercedes\")"
      ],
      "execution_count": 148,
      "outputs": [
        {
          "output_type": "stream",
          "name": "stdout",
          "text": [
            "My favroite car is BMW\n",
            "My favroite car is Audi\n",
            "My favroite car is ford\n",
            "My favroite car is Tesla\n",
            "My favroite car is Honda\n",
            "My favroite car is Mercedes\n"
          ]
        }
      ]
    },
    {
      "cell_type": "markdown",
      "metadata": {
        "id": "jHhx58KlJHO4"
      },
      "source": [
        "### Passing a List as an Argument\n",
        "You can send any data types of argument to a function (string, number, list, dictionary etc.), and it will be treated as the same data type inside the function.\n",
        "\n",
        "E.g. if you send a List as an argument, it will still be a List when it reaches the function:"
      ]
    },
    {
      "cell_type": "code",
      "metadata": {
        "id": "e60WWuuPJKfU",
        "colab": {
          "base_uri": "https://localhost:8080/"
        },
        "outputId": "e4d79895-09d7-425b-97bb-c31b4165a13f"
      },
      "source": [
        "def my_function(cars):\n",
        "  for x in cars:\n",
        "    print(x)\n",
        "\n",
        "fruits = [\"bmw\", \"audi\", \"honda\", \"Tesla\", \"Mercedes\"]\n",
        "\n",
        "my_function(fruits)"
      ],
      "execution_count": 151,
      "outputs": [
        {
          "output_type": "stream",
          "name": "stdout",
          "text": [
            "bmw\n",
            "audi\n",
            "honda\n",
            "Tesla\n",
            "Mercedes\n"
          ]
        }
      ]
    },
    {
      "cell_type": "markdown",
      "metadata": {
        "id": "pmSX2QNyKQht"
      },
      "source": [
        "### Return Values\n",
        "To let a function return a value, use the return statement:"
      ]
    },
    {
      "cell_type": "code",
      "metadata": {
        "id": "eSWNfpBaKTS-",
        "colab": {
          "base_uri": "https://localhost:8080/"
        },
        "outputId": "18ff2d4d-fade-4c18-f8a1-07b81133cf6e"
      },
      "source": [
        "def my_function(x):\n",
        "  return 5 * x\n",
        "\n",
        "print(my_function(10))\n",
        "print(my_function(20))\n",
        "print(my_function(30))"
      ],
      "execution_count": 156,
      "outputs": [
        {
          "output_type": "stream",
          "name": "stdout",
          "text": [
            "50\n",
            "100\n",
            "150\n"
          ]
        }
      ]
    },
    {
      "cell_type": "markdown",
      "metadata": {
        "id": "LfczEHJt8kT9"
      },
      "source": [
        "## Classes and Objects in Python: Object Oriented Programming\n",
        "\n",
        "Python is an object oriented programming language. Almost everything in Python is an object, with its properties and methods.\n",
        "\n",
        "A \"Class\" is like an object constructor, or a \"blueprint\" for creating objects.\n",
        "\n",
        "### Create a Class\n",
        "To create a class, use the keyword `class`:\n",
        "\n"
      ]
    },
    {
      "cell_type": "code",
      "metadata": {
        "id": "q3qDMSvZ87re"
      },
      "source": [
        "class MyClass:\n",
        "  x = 10"
      ],
      "execution_count": 163,
      "outputs": []
    },
    {
      "cell_type": "markdown",
      "metadata": {
        "id": "D-qvhIFI8_RX"
      },
      "source": [
        "### Create Object\n",
        "\n",
        "Now we can use the class named `MyClass` to create objects:\n",
        "Create an object named `p1`, and print the value of `x`:\n",
        "\n"
      ]
    },
    {
      "cell_type": "code",
      "metadata": {
        "id": "Qop1hKUR9HEl",
        "colab": {
          "base_uri": "https://localhost:8080/"
        },
        "outputId": "e7a44a00-6243-4d18-f42f-92f3af0772f6"
      },
      "source": [
        "p1 = MyClass()\n",
        "print(p1.x)"
      ],
      "execution_count": 164,
      "outputs": [
        {
          "output_type": "stream",
          "name": "stdout",
          "text": [
            "10\n"
          ]
        }
      ]
    },
    {
      "cell_type": "markdown",
      "metadata": {
        "id": "67QaRciL9Sfq"
      },
      "source": [
        "### The __init__() Function\n",
        "The examples above are classes and objects in their simplest form, and are not really useful in real life applications.\n",
        "\n",
        "To understand the meaning of classes we have to understand the built-in `__init__()` function.\n",
        "\n",
        "All classes have a function called `__init__()`, which is always executed when the class is being initiated.\n",
        "\n",
        "Use the `__init__()` function to assign values to object properties, or other operations that are necessary to do when the object is being created:"
      ]
    },
    {
      "cell_type": "code",
      "metadata": {
        "id": "MKSoupi-9dus",
        "colab": {
          "base_uri": "https://localhost:8080/"
        },
        "outputId": "6f5a1f21-1fe2-413e-ce27-b15a7adbae1b"
      },
      "source": [
        "class Student:\n",
        "  def __init__(self, name, age):\n",
        "    self.name = name\n",
        "    self.age = age\n",
        "\n",
        "p1 = Student(\"Alex\", 22)\n",
        "p2 = Student(\"Robert\", 21)\n",
        "\n",
        "\n",
        "print(p1.name)\n",
        "print(p1.age)\n",
        "\n",
        "print(p2.name, p2.age)\n",
        "\n"
      ],
      "execution_count": 167,
      "outputs": [
        {
          "output_type": "stream",
          "name": "stdout",
          "text": [
            "Alex\n",
            "22\n",
            "Robert 21\n",
            "21\n"
          ]
        }
      ]
    },
    {
      "cell_type": "markdown",
      "metadata": {
        "id": "46ZwZ60m9z6F"
      },
      "source": [
        "### Object Methods\n",
        "Objects can also contain methods. Methods in objects are functions that belong to the object.\n",
        "\n",
        "Let us create a method in the Student class:"
      ]
    },
    {
      "cell_type": "code",
      "metadata": {
        "id": "JaqU0tSV94MA",
        "colab": {
          "base_uri": "https://localhost:8080/"
        },
        "outputId": "980e2442-9f2d-415e-e05e-d968479f5459"
      },
      "source": [
        "class Student:\n",
        "  def __init__(self, name, age):\n",
        "    self.name = name\n",
        "    self.age = age\n",
        "\n",
        "  def myfunc(self):\n",
        "    print(\"Hello my name is \" + self.name, \"and i'm\", self.age, \"years old\")\n",
        "\n",
        "p1 = Student(\"Ali\", \"24\")\n",
        "p1.myfunc()"
      ],
      "execution_count": 178,
      "outputs": [
        {
          "output_type": "stream",
          "name": "stdout",
          "text": [
            "Hello my name is Ali and i'm 24 years old\n"
          ]
        }
      ]
    },
    {
      "cell_type": "markdown",
      "metadata": {
        "id": "U21DCvlD-4hq"
      },
      "source": [
        "### The self Parameter\n",
        "\n",
        "The self parameter is a reference to the current instance of the class, and is used to access variables that belongs to the class.\n",
        "\n",
        "It does not have to be named `self` , you can call it whatever you like, but it has to be the first parameter of any function in the class:\n",
        "\n"
      ]
    },
    {
      "cell_type": "code",
      "metadata": {
        "id": "BcA3FE5T-_RJ",
        "colab": {
          "base_uri": "https://localhost:8080/"
        },
        "outputId": "c5632434-7826-4d1e-e686-9241840606c2"
      },
      "source": [
        "class Student:\n",
        "  def __init__(blabla, name, age):\n",
        "    blabla.name = name\n",
        "    blabla.age = age\n",
        "\n",
        "  def myfunc(abc):\n",
        "    print(\"Hello my name is \" + abc.name, \"and i'm\", abc.age, \"years old\", \"and my friend is\", p2.name, \"who is\", p2.age, \"years old\")\n",
        "\n",
        "p1 = Student(\"Ali\", 24)\n",
        "p2 = Student(\"Robert\", 21)\n",
        "p1.myfunc()"
      ],
      "execution_count": 190,
      "outputs": [
        {
          "output_type": "stream",
          "name": "stdout",
          "text": [
            "Hello my name is Ali and i'm 24 years old and my friend is Robert who is 21 years old\n"
          ]
        }
      ]
    },
    {
      "cell_type": "markdown",
      "metadata": {
        "id": "H_Z1VCjG_212"
      },
      "source": [
        "### Modify Object Properties\n",
        "You can modify properties on objects like this:"
      ]
    },
    {
      "cell_type": "code",
      "metadata": {
        "id": "Sqn5RMNp_5ga",
        "colab": {
          "base_uri": "https://localhost:8080/"
        },
        "outputId": "19c3fa92-6ffa-409a-8fb1-fb6b0595c06b"
      },
      "source": [
        "p1.age = 20\n",
        "print(p1.age)"
      ],
      "execution_count": 207,
      "outputs": [
        {
          "output_type": "stream",
          "name": "stdout",
          "text": [
            "20\n"
          ]
        }
      ]
    },
    {
      "cell_type": "markdown",
      "metadata": {
        "id": "8z_afVxnAAAT"
      },
      "source": [
        "### Delete Object Properties\n",
        "You can delete properties on objects by using the `del` keyword:\n",
        "\n"
      ]
    },
    {
      "cell_type": "code",
      "metadata": {
        "colab": {
          "base_uri": "https://localhost:8080/"
        },
        "id": "_6Qt5xG5Ozzg",
        "outputId": "008222e6-0936-4966-fd49-e42bbdc8354e"
      },
      "source": [
        "print(p1.age)"
      ],
      "execution_count": 205,
      "outputs": [
        {
          "output_type": "stream",
          "name": "stdout",
          "text": [
            "20\n"
          ]
        }
      ]
    },
    {
      "cell_type": "code",
      "metadata": {
        "id": "sgAJ8Ee8AFSO",
        "colab": {
          "base_uri": "https://localhost:8080/",
          "height": 197
        },
        "outputId": "c8f0bc28-2ba0-4d4f-e3c4-d7bd4462ab51"
      },
      "source": [
        "del p1.age\n",
        "print(p1.age)\n",
        "\n"
      ],
      "execution_count": 208,
      "outputs": [
        {
          "output_type": "error",
          "ename": "AttributeError",
          "evalue": "ignored",
          "traceback": [
            "\u001b[0;31m---------------------------------------------------------------------------\u001b[0m",
            "\u001b[0;31mAttributeError\u001b[0m                            Traceback (most recent call last)",
            "\u001b[0;32m<ipython-input-208-4a1c4d640fe3>\u001b[0m in \u001b[0;36m<module>\u001b[0;34m()\u001b[0m\n\u001b[1;32m      1\u001b[0m \u001b[0;32mdel\u001b[0m \u001b[0mp1\u001b[0m\u001b[0;34m.\u001b[0m\u001b[0mage\u001b[0m\u001b[0;34m\u001b[0m\u001b[0;34m\u001b[0m\u001b[0m\n\u001b[0;32m----> 2\u001b[0;31m \u001b[0mprint\u001b[0m\u001b[0;34m(\u001b[0m\u001b[0mp1\u001b[0m\u001b[0;34m.\u001b[0m\u001b[0mage\u001b[0m\u001b[0;34m)\u001b[0m\u001b[0;34m\u001b[0m\u001b[0;34m\u001b[0m\u001b[0m\n\u001b[0m\u001b[1;32m      3\u001b[0m \u001b[0;34m\u001b[0m\u001b[0m\n",
            "\u001b[0;31mAttributeError\u001b[0m: 'Student' object has no attribute 'age'"
          ]
        }
      ]
    },
    {
      "cell_type": "code",
      "metadata": {
        "colab": {
          "base_uri": "https://localhost:8080/"
        },
        "id": "dzoSQRioPLm9",
        "outputId": "7ded737a-c214-4b22-ab28-cc5a88cf30bc"
      },
      "source": [
        "p1.age = 25\n",
        "print(p1.age)"
      ],
      "execution_count": 209,
      "outputs": [
        {
          "output_type": "stream",
          "name": "stdout",
          "text": [
            "25\n"
          ]
        }
      ]
    }
  ]
}